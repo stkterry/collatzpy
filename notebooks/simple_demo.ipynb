{
 "cells": [
  {
   "cell_type": "markdown",
   "metadata": {},
   "source": [
    "## Core Functionality of CTree and CNode"
   ]
  },
  {
   "cell_type": "code",
   "execution_count": 2,
   "metadata": {},
   "outputs": [],
   "source": [
    "import os, platform\n",
    "## Creating a convenient path for testing/saving examples...\n",
    "if platform.system() == 'Windows':\n",
    "    path = R'C:\\Users\\$USERNAME\\Documents\\collatzpy'\n",
    "else:\n",
    "    path = '~/Documents/collatzpy'\n",
    "FPATH = os.path.expanduser(path)\n",
    "\n",
    "\n",
    "import collatzpy.tree as ctree # get the Tree class (it'll include its proper node class CNode)"
   ]
  },
  {
   "cell_type": "code",
   "execution_count": 3,
   "metadata": {},
   "outputs": [
    {
     "name": "stdout",
     "output_type": "stream",
     "text": [
      "{'n': 35655, 'seq_len': 323}\n",
      "[27, 82, 41, 124, 62, 31, 94, 47, 142, 71, 214, 107, 322, 161, 484, 242, 121, 364, 182, 91, 274, 137, 412, 206, 103, 310, 155, 466, 233, 700, 350, 175, 526, 263, 790, 395, 1186, 593, 1780, 890, 445, 1336, 668, 334, 167, 502, 251, 754, 377, 1132, 566, 283, 850, 425, 1276, 638, 319, 958, 479, 1438, 719, 2158, 1079, 3238, 1619, 4858, 2429, 7288, 3644, 1822, 911, 2734, 1367, 4102, 2051, 6154, 3077, 9232, 4616, 2308, 1154, 577, 1732, 866, 433, 1300, 650, 325, 976, 488, 244, 122, 61, 184, 92, 46, 23, 70, 35, 106, 53, 160, 80, 40, 20, 10, 5, 16, 8, 4, 2, 1]\n"
     ]
    }
   ],
   "source": [
    "tree = ctree.CollatzTree()\n",
    "tree.collect_from_range(2, 50000)\n",
    "\n",
    "print(tree.best())\n",
    "print(tree.path(27))"
   ]
  },
  {
   "cell_type": "markdown",
   "metadata": {},
   "source": [
    "### Testing Save/Load functions..."
   ]
  },
  {
   "cell_type": "code",
   "execution_count": null,
   "metadata": {},
   "outputs": [],
   "source": [
    "ctree.save_tree(tree, 'mytree.pickle')\n",
    "tree_copy = ctree.load_tree('mytree.pickle')\n",
    "print(tree.path(500))"
   ]
  },
  {
   "cell_type": "markdown",
   "metadata": {},
   "source": [
    "### Path Plotting Functions..."
   ]
  },
  {
   "cell_type": "code",
   "execution_count": null,
   "metadata": {
    "scrolled": false
   },
   "outputs": [],
   "source": [
    "from matplotlib import pyplot as plt\n",
    "import collatzpy.plot as cplot\n",
    "\n",
    "cplot.path(tree, 27)"
   ]
  },
  {
   "cell_type": "code",
   "execution_count": null,
   "metadata": {
    "scrolled": false
   },
   "outputs": [],
   "source": [
    "import random\n",
    "selection = random.sample([n for n in range(2, 50000)], 10)\n",
    "cplot.path_from_list(tree, selection)"
   ]
  },
  {
   "cell_type": "code",
   "execution_count": null,
   "metadata": {
    "scrolled": false
   },
   "outputs": [],
   "source": [
    "nMin = 2000\n",
    "nMax = 200000000\n",
    "nNums = 2000\n",
    "random.seed(111)\n",
    "selection = [random.randint(nMin, nMax) for n in range(nNums)]\n",
    "tree.collect_from_list(selection)\n",
    "path_args = {'a1': .3, 'a2': .38, 'af': 1.08,\n",
    "             'e': 1.3, 'cmName': 'plasma_r', \n",
    "             'cmR': (0, 1)}\n",
    "save_args = {'save': True, 'output_name':'images/output.png',\n",
    "            'dpi':100, 'facecolor':'none', 'pxw':2560, 'pxh': 1440}\n",
    "fig_args = {'pxw':1600, 'pxh':800}\n",
    "\n",
    "cplot.angle_path(tree, selection, **path_args, **fig_args)"
   ]
  },
  {
   "cell_type": "code",
   "execution_count": null,
   "metadata": {},
   "outputs": [],
   "source": [
    "path_args = {'a1': .2512, 'a2': .7, 'af': 2,\n",
    "             'e': 1.2, 'cmName': 'plasma_r', \n",
    "             'cmR': (0, 1)}\n",
    "\n",
    "cplot.angle_path(tree, selection, **path_args, **fig_args)"
   ]
  },
  {
   "cell_type": "code",
   "execution_count": null,
   "metadata": {},
   "outputs": [],
   "source": [
    "nMin = 1000000\n",
    "nMax = 200000000\n",
    "nNums = 2000\n",
    "selection = [random.randint(nMin, nMax) for n in range(nNums)]\n",
    "tree.collect_from_list(selection)\n",
    "path_args = {'a1': 1.1, 'a2': .386, 'af': 1,\n",
    "             'e': 1.3, 'cmName': 'plasma_r', \n",
    "             'cmR': (0, 1)}\n",
    "fig_args = {'pxw':1600, 'pxh':900}\n",
    "cplot.angle_path(tree, selection, **path_args, **fig_args)"
   ]
  },
  {
   "cell_type": "code",
   "execution_count": null,
   "metadata": {},
   "outputs": [],
   "source": [
    "new_tree = ctree.CollatzTree()\n",
    "selection = [x for x in range(2, 1000)]\n",
    "new_tree.collect_from_list(selection)\n",
    "graph_attr={'rankdir': 'RL'}\n",
    "%matplotlib notebook\n",
    "cplot.node_graph(new_tree, selection, graph_attr=graph_attr)"
   ]
  },
  {
   "cell_type": "code",
   "execution_count": null,
   "metadata": {},
   "outputs": [],
   "source": []
  }
 ],
 "metadata": {
  "file_extension": ".py",
  "kernelspec": {
   "display_name": "Python 3.7.5 64-bit ('collatzpy': virtualenv)",
   "language": "python",
   "name": "python37564bitcollatzpyvirtualenva312ba2ca0fc40b6b7892a1ae8cea29c"
  },
  "language_info": {
   "codemirror_mode": {
    "name": "ipython",
    "version": 3
   },
   "file_extension": ".py",
   "mimetype": "text/x-python",
   "name": "python",
   "nbconvert_exporter": "python",
   "pygments_lexer": "ipython3",
   "version": "3.7.5"
  },
  "mimetype": "text/x-python",
  "name": "python",
  "npconvert_exporter": "python",
  "pygments_lexer": "ipython3",
  "version": 3
 },
 "nbformat": 4,
 "nbformat_minor": 2
}
