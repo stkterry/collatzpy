{
 "cells": [
  {
   "cell_type": "markdown",
   "metadata": {},
   "source": [
    "# Looking Over Some Basic Functionality\n",
    "\n",
    "## Loading various modules\n",
    "Currently **collatzpy** is broken up into three basic modules,\n",
    "**fpaths**, **tree**, and **plot**\n",
    "\n",
    "### fpaths\n",
    "fpaths is a single function that generates some directories for basic things you might create,\n",
    "a root path, images/graphs, pickles/dills/data, and dot files.\n",
    "It is entirely optional, you can always specify your own paths each call you make to a function\n",
    "that requires it.  Its implementation is frankly silly but still convenient when you're just\n",
    "playing around and generating lots of data.\n",
    "\n",
    "Without arguments, fpaths will generate a root folder in,\n",
    "    *home/youruser/Documents/collatzpy*\n",
    "or whatever is equivalent for your OS.\n",
    "\n",
    "Passing *dir* with your prefered path will create those folders there instead.\n",
    "\n",
    "**fpaths stores these locations in a nice session.json file!**\n",
    "\n",
    "Future calls to **fpaths**, without arguments will return those paths to you so you may continue\n",
    "as before.\n",
    "\n",
    "Passing *reset=True* will reset the paths to the default specified above.  Alternatively,\n",
    "you can pass a new *dir* and it will update accordingly.\n",
    "\n",
    "*NOTE*\n",
    "\n",
    "**fpaths** will not delete previous directories or their contents, you need to do thatyourself."
   ]
  },
  {
   "cell_type": "code",
   "execution_count": 1,
   "metadata": {},
   "outputs": [],
   "source": [
    "import collatzpy.fpaths as cfpaths # generates a collection of convenient paths for file saving...\n",
    "\n",
    "paths = cfpaths()\n",
    "rpath = paths['root']\n",
    "ipath = paths['imgs']\n",
    "ppath = paths['pickles']\n",
    "dpath = paths['dots']"
   ]
  },
  {
   "cell_type": "markdown",
   "metadata": {},
   "source": [
    "## tree\n",
    "Tree has two associated classes, ***CollatzNode*** and ***CollatzTree***, and the functions, *save_tree*, and *load_tree*.\n",
    "\n",
    "***CollatzNode*** <br>\n",
    "The node class is trivial but currently contains 3 noteworthy pieces of data, *n*, *next*, and *seq_len*. <br>\n",
    "* *n* | The value of the node. <br>\n",
    "* *seq_len* | The calculated sequence length it takes to get to 1. <br>\n",
    "* *next* | A pointer to the next value in its sequence. <br>\n",
    "\n",
    "***CollatzTree*** <br>\n",
    "The meat and potatoes.<br>\n",
    "The tree class stores the nodes, node sequences, and offers a set of very basic class functions to generate\n",
    "sequences or return data to the user.\n",
    "\n",
    "In brief, they are: <br>\n",
    "* *has(n)* | Boolean if the tree contains the node and respective sequence for the integer 'n'.\n",
    "* *splay(n)* | Returns a dict of the given node instance's variables *n*, *next*, and *seq_len*.\n",
    "* *best()* | Takes no arguments, returns the same data as splay except from the node in the tree with the highest sequence length.\n",
    "* *calc_next(n)* | Generally only used internally, will return the next integer in the sequence, given 'n'.\n",
    "* *collect(n)* | Given an integer 'n', will gather all subsequent nodes in the sequence and add them to the tree. Collect will also update the best node if one is found, and will not waste time repeatedly collecting a number it has already sequenced.\n",
    "* *collect_from_range(a, b)* | Will collect all numbers in the range of (a, b), inclusive.\n",
    "* *collect_from_list(some_list)* | Will collect all the numbers in a given list.\n",
    "* *path(n)* | Will return a list of the number sequence that goes from 'n' to 1. Will return an empty list for values of 'n' not previously calculated.\n",
    "* *longest_seq()* | Takes no arguments.  A hold over and slower method of getting the collatz number with the current longest sequence.  Just use *best()*, as it stores that node directly.\n",
    "* You can also call on the tree instance directly, i.e., mytree(n).  It will return the node itself, not just a copy of the data as with the splay function.\n",
    "\n",
    "The CollatzTree is built as a collection of dict references and linked nodes.  It's very compact and will only store a number exactly once, taking advantage of the fact that all paths lead to 1.  Lookups are as fast as a dict and sequence traversal is done as a one-way linked list, moving from 'n' to 1.  Peformance is great even for reasonably large numbers,\n",
    "but no efforts have been made to equal the size, scope, and performance of other programs.  This is more so for making interesting images and viewing smaller subsets of the collatz sequence. <br>\n",
    "*For reference, as of now, the class can generate and store every sequence from 1 to 1 million in less than 3 seconds on the desktop tested.  That's compactifying a sequence 131,434,424 numbers in total length, to a dict of *just* 2,168,611.  And every node in the tree will know its path back to 1!*\n"
   ]
  },
  {
   "cell_type": "code",
   "execution_count": 7,
   "metadata": {},
   "outputs": [],
   "source": [
    "import collatzpy.tree as ctree # import the tree module\n",
    "\n",
    "mytree = ctree.CollatzTree() # create a tree\n",
    "mytree.collect(101) # collect the path for a specific number\n",
    "mytree.collect_from_range(2, 27) # collect the paths in a given range\n",
    "my_list = [x for x in range(28, 98)]\n",
    "mytree.collect_from_list(my_list) # collect the paths in a given list"
   ]
  },
  {
   "cell_type": "code",
   "execution_count": 3,
   "metadata": {},
   "outputs": [
    {
     "name": "stdout",
     "output_type": "stream",
     "text": [
      "[27, 82, 41, 124, 62, 31, 94, 47, 142, 71, 214, 107, 322, 161, 484, 242, 121, 364, 182, 91, 274, 137, 412, 206, 103, 310, 155, 466, 233, 700, 350, 175, 526, 263, 790, 395, 1186, 593, 1780, 890, 445, 1336, 668, 334, 167, 502, 251, 754, 377, 1132, 566, 283, 850, 425, 1276, 638, 319, 958, 479, 1438, 719, 2158, 1079, 3238, 1619, 4858, 2429, 7288, 3644, 1822, 911, 2734, 1367, 4102, 2051, 6154, 3077, 9232, 4616, 2308, 1154, 577, 1732, 866, 433, 1300, 650, 325, 976, 488, 244, 122, 61, 184, 92, 46, 23, 70, 35, 106, 53, 160, 80, 40, 20, 10, 5, 16, 8, 4, 2, 1]\n"
     ]
    }
   ],
   "source": [
    "path27 = mytree.path(27) # return a list of the path from 27 to 1\n",
    "print(path27)"
   ]
  },
  {
   "cell_type": "code",
   "execution_count": 12,
   "metadata": {},
   "outputs": [
    {
     "name": "stdout",
     "output_type": "stream",
     "text": [
      "Calling on the tree directly:  <collatzpy.tree.collatz_node.CollatzNode object at 0x7f3d657ff890> \n",
      "\n",
      "Calling mytree.splay(27):  {'n': 27, 'seq_len': 111, 'next': 82} \n",
      "\n",
      "Calling mytree.best():  {'n': 97, 'seq_len': 118, 'next': 292} \n",
      "\n"
     ]
    }
   ],
   "source": [
    "node = mytree(27) # retrieve the node object associated with the given number\n",
    "print('Calling on the tree directly: ', node, '\\n')\n",
    "# calling directly on the tree for a nonexistent node will return None\n",
    "\n",
    "node_info = mytree.splay(27) # retrieve the information about the given node\n",
    "print('Calling mytree.splay(27): ', node_info, '\\n')\n",
    "# calling splay for a nonexistent node will return Nothing\n",
    "\n",
    "best_node = mytree.best() # retrieve info associated with the node with the longest path sequence\n",
    "print('Calling mytree.best(): ', best_node, '\\n')"
   ]
  },
  {
   "cell_type": "markdown",
   "metadata": {},
   "source": [
    "### Saving/Loading tree data\n",
    "Trees are stored using the dill extension from pickle.  They'll retain their\n",
    "full state between sessions! Pretty convenient."
   ]
  },
  {
   "cell_type": "code",
   "execution_count": 5,
   "metadata": {},
   "outputs": [],
   "source": [
    "ctree.save_tree(mytree, ppath, 'mytree.pickle') # That sweet fpaths var...\n",
    "\n",
    "mytree_copy = ctree.load_tree(ppath, 'mytree.pickle')\n"
   ]
  },
  {
   "cell_type": "code",
   "execution_count": null,
   "metadata": {},
   "outputs": [],
   "source": []
  }
 ],
 "metadata": {
  "kernelspec": {
   "display_name": "Python 3.7.5 64-bit ('collatzpy': virtualenv)",
   "language": "python",
   "name": "python37564bitcollatzpyvirtualenva312ba2ca0fc40b6b7892a1ae8cea29c"
  },
  "language_info": {
   "codemirror_mode": {
    "name": "ipython",
    "version": 3
   },
   "file_extension": ".py",
   "mimetype": "text/x-python",
   "name": "python",
   "nbconvert_exporter": "python",
   "pygments_lexer": "ipython3",
   "version": "3.7.5"
  }
 },
 "nbformat": 4,
 "nbformat_minor": 4
}
